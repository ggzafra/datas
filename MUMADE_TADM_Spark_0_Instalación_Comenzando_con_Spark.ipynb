{
  "nbformat": 4,
  "nbformat_minor": 0,
  "metadata": {
    "colab": {
      "name": "MUMADE - TADM -  Spark 0 - Instalación Comenzando con Spark",
      "provenance": [],
      "authorship_tag": "ABX9TyP7lAUUbSpJGdzLubfmzRxO",
      "include_colab_link": true
    },
    "kernelspec": {
      "name": "python3",
      "display_name": "Python 3"
    }
  },
  "cells": [
    {
      "cell_type": "markdown",
      "metadata": {
        "id": "view-in-github",
        "colab_type": "text"
      },
      "source": [
        "<a href=\"https://colab.research.google.com/github/curso-iabd-uclm/hadoop/blob/main/MUMADE_TADM_Spark_0_Instalaci%C3%B3n_Comenzando_con_Spark.ipynb\" target=\"_parent\"><img src=\"https://colab.research.google.com/assets/colab-badge.svg\" alt=\"Open In Colab\"/></a>"
      ]
    },
    {
      "cell_type": "markdown",
      "metadata": {
        "id": "UWy2OKvkaQzO"
      },
      "source": [
        "# Primer Cuaderno Colab Spark"
      ]
    },
    {
      "cell_type": "markdown",
      "metadata": {
        "id": "2I7p_uqUiIb3"
      },
      "source": [
        "# Inicialización"
      ]
    },
    {
      "cell_type": "markdown",
      "metadata": {
        "id": "IKTnjTw9f-t0"
      },
      "source": [
        "## Instalación"
      ]
    },
    {
      "cell_type": "markdown",
      "metadata": {
        "id": "ri7MiwC8fOqi"
      },
      "source": [
        "En primer lugar instalamos y configuramos todas las dependencias de Spark para Python. De esta forma enlazaremos nuestro entorno con el servidor de Spark. Además configuraremos el entorno Spark con las variables que sean necestarias. \n",
        "\n"
      ]
    },
    {
      "cell_type": "markdown",
      "metadata": {
        "id": "s6nqb7zKfgcn"
      },
      "source": [
        "1. Instalar Java Virtual Machine y distribución de Spark\n",
        "\n",
        ">**NOTA: la última versión de PySpark es la 3.2.0 [link](https://pypi.org/project/pyspark/#history)**"
      ]
    },
    {
      "cell_type": "code",
      "metadata": {
        "id": "XWM4ntmGfLSE"
      },
      "source": [
        "# Install spark-related dependencies\n",
        "!apt-get install openjdk-8-jdk-headless -qq > /dev/null\n",
        "!wget -q http://apache.osuosl.org/spark/spark-3.2.0/spark-3.2.0-bin-hadoop2.7.tgz\n",
        "!tar xf spark-3.2.0-bin-hadoop2.7.tgz\n"
      ],
      "execution_count": null,
      "outputs": []
    },
    {
      "cell_type": "markdown",
      "metadata": {
        "id": "-79ODC6zfddr"
      },
      "source": [
        "2. Instalar pyspark y findspark"
      ]
    },
    {
      "cell_type": "code",
      "metadata": {
        "colab": {
          "base_uri": "https://localhost:8080/"
        },
        "id": "-BX1mOrHUeor",
        "outputId": "7a44f821-b56d-474b-9af5-36710a47513d"
      },
      "source": [
        "!pip install -q findspark\n",
        "!pip install pyspark"
      ],
      "execution_count": null,
      "outputs": [
        {
          "output_type": "stream",
          "name": "stdout",
          "text": [
            "Collecting pyspark\n",
            "  Downloading pyspark-3.2.0.tar.gz (281.3 MB)\n",
            "\u001b[K     |████████████████████████████████| 281.3 MB 37 kB/s \n",
            "\u001b[?25hCollecting py4j==0.10.9.2\n",
            "  Downloading py4j-0.10.9.2-py2.py3-none-any.whl (198 kB)\n",
            "\u001b[K     |████████████████████████████████| 198 kB 53.0 MB/s \n",
            "\u001b[?25hBuilding wheels for collected packages: pyspark\n",
            "  Building wheel for pyspark (setup.py) ... \u001b[?25l\u001b[?25hdone\n",
            "  Created wheel for pyspark: filename=pyspark-3.2.0-py2.py3-none-any.whl size=281805912 sha256=c5a440810d2be6d7b9cf8c9d644d3fb3f0aac84ad83104e5c9ab81ab71141821\n",
            "  Stored in directory: /root/.cache/pip/wheels/0b/de/d2/9be5d59d7331c6c2a7c1b6d1a4f463ce107332b1ecd4e80718\n",
            "Successfully built pyspark\n",
            "Installing collected packages: py4j, pyspark\n",
            "Successfully installed py4j-0.10.9.2 pyspark-3.2.0\n"
          ]
        }
      ]
    },
    {
      "cell_type": "markdown",
      "metadata": {
        "id": "c7H1U__0fumS"
      },
      "source": [
        "3. Establecer las variables de entorno"
      ]
    },
    {
      "cell_type": "code",
      "metadata": {
        "id": "-4kaC_aoUCqU"
      },
      "source": [
        "import os\n",
        "os.environ[\"JAVA_HOME\"] = \"/usr/lib/jvm/java-8-openjdk-amd64\"\n",
        "os.environ[\"SPARK_HOME\"] = \"/content/spark-3.2.0-bin-hadoop2.7\""
      ],
      "execution_count": null,
      "outputs": []
    },
    {
      "cell_type": "markdown",
      "metadata": {
        "id": "X6HgeljFkc7M"
      },
      "source": [
        "## Inicialización \n",
        "\n",
        "Vamos a iniciar una sesión de spark simple para testear nuestra instalación\n",
        "\n",
        "1. Ejecutamos [findspark.init()](https://pypi.org/project/findspark/) para hacer que pyspark sea importable como una biblioteca normal (añade pyspark al sys.path en el entorno de ejecución) "
      ]
    },
    {
      "cell_type": "code",
      "metadata": {
        "id": "HTSn-3-mijVG"
      },
      "source": [
        "import findspark\n",
        "findspark.init()"
      ],
      "execution_count": null,
      "outputs": []
    },
    {
      "cell_type": "markdown",
      "metadata": {
        "id": "xj8FiDqbnO5I"
      },
      "source": [
        "2. Importamos las librerías necesarias de Spark"
      ]
    },
    {
      "cell_type": "code",
      "metadata": {
        "id": "2W45bw-BxWPs"
      },
      "source": [
        "import pyspark\n",
        "from pyspark.sql import *\n",
        "from pyspark.sql.functions import *\n",
        "from pyspark import SparkContext, SparkConf"
      ],
      "execution_count": null,
      "outputs": []
    },
    {
      "cell_type": "markdown",
      "metadata": {
        "id": "qOteXlWUnbZK"
      },
      "source": [
        "Si creamos el contexto sin ningún argumento al respecto  se utilizará la variable de entorno SPARK_HOME, y si no está establecida, se comprobarán otras posibles ubicaciones de instalación. \n",
        "\n",
        "Más consideraciones sobre en arranque en el siguiente [enlace](https://github.com/minrk/findspark)\n",
        "\n",
        "Más detalle sobre las opciones de configuración en el siguiente [enlace](http://spark.apache.org/docs/latest/configuration.html)"
      ]
    },
    {
      "cell_type": "code",
      "metadata": {
        "id": "seXBHLR6klUg"
      },
      "source": [
        "conf = SparkConf().set(\"spark.ui.port\", \"4050\")\n",
        "# create the context\n",
        "sc = pyspark.SparkContext(conf=conf)\n",
        "spark = SparkSession.builder.getOrCreate()\n"
      ],
      "execution_count": null,
      "outputs": []
    },
    {
      "cell_type": "code",
      "metadata": {
        "colab": {
          "base_uri": "https://localhost:8080/",
          "height": 219
        },
        "id": "dJ_3bZwAoAwa",
        "outputId": "feeb1217-2947-40e7-8dfb-9877f5bffc67"
      },
      "source": [
        "spark"
      ],
      "execution_count": null,
      "outputs": [
        {
          "output_type": "execute_result",
          "data": {
            "text/html": [
              "\n",
              "            <div>\n",
              "                <p><b>SparkSession - in-memory</b></p>\n",
              "                \n",
              "        <div>\n",
              "            <p><b>SparkContext</b></p>\n",
              "\n",
              "            <p><a href=\"http://e889d90dc2bc:4050\">Spark UI</a></p>\n",
              "\n",
              "            <dl>\n",
              "              <dt>Version</dt>\n",
              "                <dd><code>v3.2.0</code></dd>\n",
              "              <dt>Master</dt>\n",
              "                <dd><code>local[*]</code></dd>\n",
              "              <dt>AppName</dt>\n",
              "                <dd><code>pyspark-shell</code></dd>\n",
              "            </dl>\n",
              "        </div>\n",
              "        \n",
              "            </div>\n",
              "        "
            ],
            "text/plain": [
              "<pyspark.sql.session.SparkSession at 0x7ff3f4b6e450>"
            ]
          },
          "metadata": {},
          "execution_count": 7
        }
      ]
    },
    {
      "cell_type": "markdown",
      "metadata": {
        "id": "1g5lTyqJpwIx"
      },
      "source": [
        "Para poder ver el interfaz en Colab de alguna manera hace falta ejecutar la siguiente celda creará un túnel *ngrok* que le permitirá seguir comprobando la interfaz de usuario de Spark."
      ]
    },
    {
      "cell_type": "code",
      "metadata": {
        "colab": {
          "base_uri": "https://localhost:8080/"
        },
        "id": "KxhQDrSSsefG",
        "outputId": "c9a853ab-7e96-4979-dfb9-fd5db1376b2b"
      },
      "source": [
        "!wget https://bin.equinox.io/c/4VmDzA7iaHb/ngrok-stable-linux-amd64.zip\n",
        "!unzip ngrok-stable-linux-amd64.zip\n",
        "get_ipython().system_raw('./ngrok http 4050 &')\n"
      ],
      "execution_count": null,
      "outputs": [
        {
          "output_type": "stream",
          "name": "stdout",
          "text": [
            "--2021-11-10 18:33:57--  https://bin.equinox.io/c/4VmDzA7iaHb/ngrok-stable-linux-amd64.zip\n",
            "Resolving bin.equinox.io (bin.equinox.io)... 18.205.222.128, 54.237.133.81, 52.202.168.65, ...\n",
            "Connecting to bin.equinox.io (bin.equinox.io)|18.205.222.128|:443... connected.\n",
            "HTTP request sent, awaiting response... 200 OK\n",
            "Length: 13832437 (13M) [application/octet-stream]\n",
            "Saving to: ‘ngrok-stable-linux-amd64.zip’\n",
            "\n",
            "ngrok-stable-linux- 100%[===================>]  13.19M  7.31MB/s    in 1.8s    \n",
            "\n",
            "2021-11-10 18:33:59 (7.31 MB/s) - ‘ngrok-stable-linux-amd64.zip’ saved [13832437/13832437]\n",
            "\n",
            "Archive:  ngrok-stable-linux-amd64.zip\n",
            "  inflating: ngrok                   \n"
          ]
        }
      ]
    },
    {
      "cell_type": "code",
      "metadata": {
        "colab": {
          "base_uri": "https://localhost:8080/"
        },
        "id": "0gnEnUFxt59a",
        "outputId": "fc29d5a9-d71e-48a3-a68b-18becb4334e2"
      },
      "source": [
        "!curl -s http://localhost:4040/api/tunnels | python3 -c \"import sys, json; print(json.load(sys.stdin)['tunnels'][0]['public_url'])\""
      ],
      "execution_count": null,
      "outputs": [
        {
          "output_type": "stream",
          "name": "stdout",
          "text": [
            "https://190a-35-185-46-128.ngrok.io\n"
          ]
        }
      ]
    },
    {
      "cell_type": "markdown",
      "metadata": {
        "id": "mVmgUB81IbeQ"
      },
      "source": [
        "# Manipulando datos"
      ]
    },
    {
      "cell_type": "code",
      "metadata": {
        "colab": {
          "base_uri": "https://localhost:8080/"
        },
        "id": "KNZVFUS-IdfY",
        "outputId": "3bfa3f58-fa1c-42ad-e2f0-7304f10fd5ea"
      },
      "source": [
        "estadisticas = spark.read.csv( \"/content/laliga201920.csv\" , inferSchema = True, header = True , sep=\",\"   )\n",
        "estadisticas.show()"
      ],
      "execution_count": null,
      "outputs": [
        {
          "output_type": "stream",
          "name": "stdout",
          "text": [
            "+------+-------+---------+--------------------+----------+-------------+-------------+-------------------+-----------+-----------+-----------+------------+------+------+-------+--------+-------------------+---------------------+---------+-------+-------------------+-------------------+-------------+--------------+----------------------+--------------------------+-------------------------+-----+---------------------+----------------------+----------------+---------------+------------+-------------+-------------+-----------+-----------------------------+---------------------------------+------------------+-------------+------------------------------+------------+----------------------------------------------+------------------------------------------------+----------------+---------------------------+---------------+--------------+---------------+----------------+-----------------------+-------------------------+----------------------+------------------------+--------------------------+----------------------------+---------------------------------+-----------------------------------+----------------------------+------------------------------+--------------------------------+------------------------------+-----------+-----------------------------------+---------------------------+-----------------------------+-----------+---------+----------+------------------+----------------+-----------------+------------------+----------------+-----------------+-------------+-----------+------------+----------------+----------+-------------+----------+------+\n",
            "|  team|team_id|player_id|         player_name|  position|   known_name|   first_name|          last_name|shirtNumber|played_time|appearances|played_games|starts|sub_on|sub_off|offsides|dribbles_successful|dribbles_unsuccessful|keypasses|assists|assists_intentional|assists_second_goal|through_balls|goals_conceded|goals_conceded_penalty|goals_conceded_outside_box|goals_conceded_inside_box|goals|goals_from_inside_box|goals_from_outside_box|goals_right_foot|goals_left_foot|goals_headed|goals_penalty|penalty_taken|shots_total|shots_on_target_include_goals|shots_off_target_include_woodwork|shots_hit_woodwork|shots_blocked|shots_attempts_from_set_pieces|passes_total|passes_total_exc_crosses_and_corners_succesful|passes_total_exc_crosses_and_corners_unsuccesful|passes_open_play|passes_open_play_successful|passes_backward|passes_forward|passes_leftside|passes_rightside|passes_short_successful|passes_short_unsuccessful|passes_long_successful|passes_long_unsuccessful|passes_own_half_successful|passes_own_half_unsuccessful|passes_opposition_half_successful|passes_opposition_half_unsuccessful|crosses_open_play_successful|crosses_open_play_unsuccessful|crosses_and_corners_unsuccessful|crosses_and_corners_successful|corners_won|corners_taken_include_short_corners|corners_into_box_successful|corners_into_box_unsuccessful|duels_total|duels_won|duels_lost|duels_ground_total|duels_ground_won|duels_ground_lost|duels_aerial_total|duels_aerial_won|duels_aerial_lost|tackles_total|tackles_won|tackles_lost|tackles_last_man|clearances|interceptions|recoveries|blocks|\n",
            "+------+-------+---------+--------------------+----------+-------------+-------------+-------------------+-----------+-----------+-----------+------------+------+------+-------+--------+-------------------+---------------------+---------+-------+-------------------+-------------------+-------------+--------------+----------------------+--------------------------+-------------------------+-----+---------------------+----------------------+----------------+---------------+------------+-------------+-------------+-----------+-----------------------------+---------------------------------+------------------+-------------+------------------------------+------------+----------------------------------------------+------------------------------------------------+----------------+---------------------------+---------------+--------------+---------------+----------------+-----------------------+-------------------------+----------------------+------------------------+--------------------------+----------------------------+---------------------------------+-----------------------------------+----------------------------+------------------------------+--------------------------------+------------------------------+-----------+-----------------------------------+---------------------------+-----------------------------+-----------+---------+----------+------------------+----------------+-----------------+------------------+----------------+-----------------+-------------+-----------+------------+----------------+----------+-------------+----------+------+\n",
            "|Getafe|   1450|   171222|     Mauro Arambarri|Midfielder|         null|        Mauro|          Arambarri|         18|       3071|         35|          35|    34|     1|      3|    null|                 30|                   13|       15|      1|                  1|               null|         null|            33|                     5|                         2|                       31|    1|                    1|                  null|            null|           null|           1|         null|         null|         33|                            7|                               26|              null|           14|                             5|         896|                                           608|                                             288|             864|                        580|             99|           314|            226|             257|                    522|                      199|                    86|                      89|                       213|                          54|                              408|                                266|                           9|                            26|                              32|                            13|         11|                                 13|                          1|                            3|        461|      236|       225|               315|             163|              152|               146|              73|               73|           72|         33|          39|            null|        33|           43|       201|     5|\n",
            "|Getafe|   1450|    20150|      Markel Bergara|Midfielder|         null|       Markel|            Bergara|          5|         70|          2|           2|  null|     2|   null|    null|               null|                 null|     null|   null|               null|               null|         null|          null|                  null|                      null|                     null| null|                 null|                  null|            null|           null|        null|         null|         null|       null|                         null|                             null|              null|            1|                          null|          16|                                             9|                                               7|              16|                          9|              2|             5|              5|               4|                      9|                        6|                  null|                       1|                         3|                           1|                                6|                                  8|                        null|                             2|                               2|                          null|          1|                               null|                       null|                         null|          5|        1|         4|                 2|            null|                2|                 3|               1|                2|         null|       null|        null|            null|         2|         null|         2|  null|\n",
            "|Getafe|   1450|   169586|        Erick Cabaco|  Defender|         null|        Erick|             Cabaco|          4|       1075|         15|          15|    12|     3|      3|    null|                  4|                    1|        2|   null|               null|               null|         null|            12|                     1|                         2|                       10| null|                 null|                  null|            null|           null|        null|         null|         null|          3|                         null|                                3|              null|            2|                          null|         485|                                           353|                                             132|             451|                        326|             15|           246|            147|              77|                    285|                       53|                    68|                      79|                       228|                          43|                              125|                                 94|                        null|                             5|                               5|                          null|          3|                               null|                       null|                         null|        100|       58|        42|                45|              27|               18|                55|              31|               24|           15|         11|           4|            null|        60|           15|        61|     8|\n",
            "|Getafe|   1450|    64662|     Leandro Cabrera|  Defender|         null|      Leandro|            Cabrera|          6|       3060|         35|          35|    35|  null|      2|       2|                  8|                 null|        8|      1|                  1|               null|            2|            37|                     3|                         2|                       35|    2|                    2|                  null|            null|           null|           2|         null|         null|          9|                            3|                                6|                 1|            2|                          null|        1328|                                           827|                                             501|            1250|                        787|             55|           740|            231|             302|                    640|                      212|                   187|                     289|                       480|                         133|                              349|                                381|                           2|                            13|                              13|                             2|          7|                               null|                       null|                         null|        280|      163|       117|               105|              60|               45|               175|             103|               72|           38|         17|          21|               1|       142|           41|       153|    16|\n",
            "|Getafe|   1450|   179268|      Marc Cucurella|  Defender|         null|         Marc|          Cucurella|         15|       3248|         37|          37|    37|  null|     13|       6|                 23|                   26|       48|      5|                  5|               null|            1|            33|                     4|                         2|                       31|    1|                    1|                  null|            null|              1|        null|         null|         null|         21|                            6|                               15|                 2|            9|                             2|        1128|                                           764|                                             364|            1096|                        732|            197|           495|             89|             347|                    725|                      261|                    39|                     103|                       188|                          77|                              604|                                386|                          24|                            93|                              99|                            28|          9|                                 16|                       null|                            1|        474|      211|       263|               337|             156|              181|               137|              55|               82|           75|         52|          23|            null|        22|           36|       242|     8|\n",
            "|Getafe|   1450|   149838|       Djené Dakonam|  Defender|         null|        Djené|            Dakonam|          2|       3060|         34|          34|    34|  null|   null|       1|                 14|                    4|        6|   null|               null|               null|            2|            34|                     5|                         2|                       32| null|                 null|                  null|            null|           null|        null|         null|         null|          5|                            1|                                4|              null|         null|                          null|        1012|                                           703|                                             309|             973|                        670|             84|           513|            239|             176|                    583|                      144|                   120|                     165|                       411|                         124|                              296|                                191|                           4|                             6|                               6|                             4|       null|                               null|                       null|                         null|        294|      166|       128|               142|              80|               62|               152|              86|               66|           41|         31|          10|               1|       104|           34|       228|     7|\n",
            "|Getafe|   1450|   439716|           Hugo Duro|   Forward|         null|         Hugo|               Duro|         26|        374|         12|          12|     4|     8|      4|       1|               null|                 null|        2|      1|               null|               null|         null|             8|                     3|                         1|                        7|    1|                    1|                  null|            null|           null|           1|         null|         null|          5|                            3|                                2|              null|            1|                          null|          68|                                            40|                                              28|              68|                         40|             18|            26|              4|              20|                     38|                       26|                     2|                       2|                        13|                           3|                               27|                                 29|                        null|                             4|                               4|                          null|          3|                               null|                       null|                         null|        102|       36|        66|                45|              21|               24|                57|              15|               42|            6|          5|           1|            null|         3|            1|        12|  null|\n",
            "|Getafe|   1450|   227560|    Oghenekaro Etebo|Midfielder|         null|   Oghenekaro|              Etebo|          5|        574|         10|          10|     6|     4|      5|    null|                  4|                    2|        3|   null|               null|               null|            1|             6|                  null|                      null|                        6|    1|                    1|                  null|               1|           null|        null|         null|         null|          8|                            3|                                5|              null|            1|                          null|         200|                                           125|                                              75|             198|                        123|             31|            90|             41|              38|                    113|                       51|                    12|                      24|                        39|                          21|                               87|                                 67|                           1|                            13|                              13|                             1|          3|                               null|                       null|                         null|         82|       45|        37|                45|              23|               22|                37|              22|               15|           12|          4|           8|            null|         3|           11|        43|     1|\n",
            "|Getafe|   1450|    58637|      Xabier Etxeita|  Defender|         null|       Xabier|            Etxeita|         16|       1446|         17|          17|    16|     1|      1|    null|               null|                    1|        2|   null|               null|               null|         null|            14|                     4|                      null|                       14| null|                 null|                  null|            null|           null|        null|         null|         null|          4|                            2|                                2|              null|            2|                          null|         438|                                           237|                                             201|             419|                        225|             17|           258|             72|              91|                    182|                      101|                    55|                     100|                       125|                          76|                              112|                                125|                        null|                          null|                            null|                          null|          4|                               null|                       null|                         null|        147|       82|        65|                57|              31|               26|                90|              51|               39|           20|         11|           9|            null|        68|           17|        58|     5|\n",
            "|Getafe|   1450|    92724|         Faycal Fajr|Midfielder|         null|       Faycal|               Fajr|         21|        402|         10|          10|     5|     5|      3|    null|                  1|                 null|        9|   null|               null|               null|         null|             6|                  null|                      null|                        6| null|                 null|                  null|            null|           null|        null|         null|         null|          7|                            3|                                4|                 1|            2|                             3|         158|                                           107|                                              51|             141|                         96|             26|            72|             30|              30|                     78|                       31|                    29|                      20|                        29|                           9|                               86|                                 66|                           3|                             9|                              24|                             8|          2|                                 20|                          4|                           12|         37|       16|        21|                16|               6|               10|                21|              10|               11|            1|          1|        null|            null|      null|            4|        19|  null|\n",
            "|Getafe|   1450|   454317|Enrique Gallego P...|   Forward|Enric Gallego|      Enrique|   Gallego Puigsech|         10|       1042|         19|          19|    11|     8|      4|      10|                  6|                    6|        9|   null|               null|               null|         null|            13|                  null|                         1|                       12|    3|                    3|                  null|            null|              1|           2|         null|         null|         17|                            8|                                9|              null|            7|                          null|         284|                                           151|                                             133|             269|                        136|             52|            90|             69|              73|                    148|                      128|                     3|                       5|                        41|                          13|                              111|                                124|                           1|                             4|                               4|                             1|          6|                               null|                       null|                         null|        286|      129|       157|                77|              26|               51|               209|             103|              106|           12|          6|           6|            null|         8|            6|        29|     2|\n",
            "|Getafe|   1450|    80908|         Raúl García|  Defender|  Raúl García|         Raúl|             García|         14|       1260|         16|          16|    15|     1|      5|       1|                  8|                    7|       11|      1|               null|               null|         null|            12|                     3|                      null|                       12| null|                 null|                  null|            null|           null|        null|         null|         null|          5|                            3|                                2|              null|            3|                             1|         395|                                           275|                                             120|             386|                        271|             62|           210|             31|              92|                    248|                       62|                    27|                      58|                       139|                          36|                              157|                                149|                          19|                            51|                              65|                            21|          6|                                  7|                       null|                            5|        116|       63|        53|                81|              44|               37|                35|              19|               16|           25|         15|          10|            null|        28|           12|        66|     3|\n",
            "|Getafe|   1450|    98976|      Bruno González|  Defender|         null|        Bruno|           González|          4|        635|          8|           8|     7|     1|   null|       1|               null|                 null|     null|   null|               null|               null|         null|             9|                  null|                         1|                        8| null|                 null|                  null|            null|           null|        null|         null|         null|          1|                         null|                                1|              null|         null|                          null|         279|                                           235|                                              44|             267|                        225|             30|            91|             84|              74|                    213|                       19|                    22|                      25|                       166|                          20|                               69|                                 24|                        null|                          null|                            null|                          null|          1|                               null|                       null|                         null|         46|       27|        19|                28|              17|               11|                18|              10|                8|           13|         10|           3|            null|        35|            2|        40|     4|\n",
            "|Getafe|   1450|   198499|  Nemanja Maksimovic|Midfielder|         null|      Nemanja|         Maksimovic|         20|       2898|         35|          35|    33|     2|      5|       1|                 11|                    5|       14|   null|               null|               null|         null|            31|                     5|                         2|                       29|    2|                    2|                  null|               1|           null|           1|         null|         null|         28|                           11|                               17|                 1|            6|                          null|         727|                                           511|                                             216|             658|                        443|            113|           293|            136|             185|                    480|                      166|                    31|                      50|                       196|                          61|                              319|                                159|                           4|                             4|                               4|                             4|          4|                               null|                       null|                         null|        283|      144|       139|               131|              69|               62|               152|              75|               77|           48|         28|          20|            null|        28|           56|       136|     7|\n",
            "|Getafe|   1450|   109270|          Jaime Mata|   Forward|         null|        Jaime|               Mata|          7|       2757|         34|          34|    33|     1|     15|      38|                 14|                   18|       26|      3|                  3|               null|            2|            23|                     2|                         2|                       21|   11|                   11|                  null|               9|           null|           2|            3|            4|         49|                           25|                               24|                 2|            8|                          null|         704|                                           467|                                             237|             695|                        458|            195|           167|            166|             176|                    456|                      225|                    11|                      12|                       124|                          35|                              357|                                246|                          14|                            44|                              44|                            14|         26|                               null|                       null|                         null|        483|      190|       293|               237|              85|              152|               246|             105|              141|           21|         13|           8|            null|        15|            7|        94|     1|\n",
            "|Getafe|   1450|    76555|        Jorge Molina|   Forward|         null|        Jorge|             Molina|         19|       1891|         34|          34|    23|    11|     17|      16|                 23|                   18|       21|      3|                  3|               null|            4|            19|                     1|                      null|                       19|    5|                    5|                  null|               4|              1|        null|            2|            2|         25|                           11|                               14|                 2|            7|                          null|         576|                                           376|                                             200|             568|                        368|            114|           176|            157|             129|                    366|                      191|                    10|                       9|                        70|                          19|                              310|                                194|                           4|                            13|                              13|                             4|         18|                               null|                       null|                         null|        366|      155|       211|               162|              70|               92|               204|              85|              119|            8|          2|           6|            null|        16|            4|        81|     2|\n",
            "|Getafe|   1450|   225463|        Amath Ndiaye|   Forward|         null|        Amath|             Ndiaye|         11|         60|          7|           7|  null|     7|   null|    null|                  5|                    5|     null|   null|               null|               null|         null|             2|                  null|                      null|                        2| null|                 null|                  null|            null|           null|        null|         null|         null|       null|                         null|                             null|              null|         null|                          null|          17|                                            11|                                               6|              16|                         10|              7|             6|              1|               3|                     10|                        6|                     1|                    null|                         1|                           2|                               10|                                  4|                        null|                          null|                            null|                          null|          2|                                  1|                       null|                         null|         27|       12|        15|                26|              11|               15|                 1|               1|             null|            2|          1|           1|            null|      null|         null|         4|  null|\n",
            "|Getafe|   1450|   167767|Robert Kenedy Nun...|Midfielder|       Kenedy|Robert Kenedy|Nunes do Nascimento|         25|        576|         19|          19|     3|    16|      3|       1|                 18|                   13|        7|      3|                  3|               null|            2|             4|                  null|                      null|                        4|    1|                    1|                  null|            null|              1|        null|         null|         null|          8|                            3|                                5|              null|            6|                          null|         158|                                           113|                                              45|             156|                        111|             37|            53|             25|              43|                    107|                       37|                     6|                       8|                        22|                           6|                              103|                                 60|                           8|                            18|                              21|                            12|          5|                                  6|                          4|                            1|        102|       42|        60|                84|              35|               49|                18|               7|               11|            9|          5|           4|            null|         4|           11|        44|  null|\n",
            "|Getafe|   1450|    67527|    Allan-Roméo Nyom|  Defender|         null|  Allan-Roméo|               Nyom|         12|       2430|         34|          34|    31|     3|     16|       3|                 15|                   19|       10|   null|               null|               null|         null|            28|                     5|                         2|                       26|    2|                    2|                  null|               1|           null|           1|         null|         null|          9|                            4|                                5|              null|            4|                          null|         621|                                           366|                                             255|             614|                        361|            115|           351|             91|              64|                    327|                      154|                    39|                     101|                       152|                          60|                              234|                                272|                          20|                            77|                              77|                            20|         18|                               null|                       null|                         null|        262|      119|       143|               196|              83|              113|                66|              36|               30|           45|         25|          20|            null|        43|           14|       125|     5|\n",
            "|Getafe|   1450|   214966|     Mathías Olivera|  Defender|         null|      Mathías|            Olivera|         17|       1872|         24|          24|    21|     3|      3|       3|                 23|                   12|        9|      1|                  1|               null|         null|            20|                     4|                         1|                       19| null|                 null|                  null|            null|           null|        null|         null|         null|          5|                            1|                                4|                 1|            1|                          null|         605|                                           323|                                             282|             590|                        310|             47|           395|             34|             129|                    302|                      190|                    21|                      92|                        91|                          74|                              242|                                247|                          10|                            37|                              39|                            10|          7|                                  1|                       null|                         null|        323|      176|       147|               171|             102|               69|               152|              74|               78|           64|         40|          24|               1|        39|           24|       107|     3|\n",
            "+------+-------+---------+--------------------+----------+-------------+-------------+-------------------+-----------+-----------+-----------+------------+------+------+-------+--------+-------------------+---------------------+---------+-------+-------------------+-------------------+-------------+--------------+----------------------+--------------------------+-------------------------+-----+---------------------+----------------------+----------------+---------------+------------+-------------+-------------+-----------+-----------------------------+---------------------------------+------------------+-------------+------------------------------+------------+----------------------------------------------+------------------------------------------------+----------------+---------------------------+---------------+--------------+---------------+----------------+-----------------------+-------------------------+----------------------+------------------------+--------------------------+----------------------------+---------------------------------+-----------------------------------+----------------------------+------------------------------+--------------------------------+------------------------------+-----------+-----------------------------------+---------------------------+-----------------------------+-----------+---------+----------+------------------+----------------+-----------------+------------------+----------------+-----------------+-------------+-----------+------------+----------------+----------+-------------+----------+------+\n",
            "only showing top 20 rows\n",
            "\n"
          ]
        }
      ]
    },
    {
      "cell_type": "markdown",
      "metadata": {
        "id": "yL3zL7vWK2qp"
      },
      "source": [
        "- Completar los goles a 0 que vengan nulos\n",
        "- Sacar el total de goles por equipo"
      ]
    },
    {
      "cell_type": "code",
      "metadata": {
        "colab": {
          "base_uri": "https://localhost:8080/"
        },
        "id": "4H0UxnxrKMW4",
        "outputId": "8677e3c4-281f-486b-85eb-d0a17fbb2089"
      },
      "source": [
        "estadisticas = estadisticas.na.fill({'goals': 0})\n",
        "estadisticas.groupby('team').sum('goals').show()"
      ],
      "execution_count": null,
      "outputs": [
        {
          "output_type": "stream",
          "name": "stdout",
          "text": [
            "+------------------+----------+\n",
            "|              team|sum(goals)|\n",
            "+------------------+----------+\n",
            "|          Espanyol|        27|\n",
            "|           Leganés|        37|\n",
            "|   Real Valladolid|        31|\n",
            "|        Villarreal|        62|\n",
            "|       Real Madrid|        69|\n",
            "|     Athletic Club|        40|\n",
            "|        Granada CF|        50|\n",
            "|         Barcelona|        95|\n",
            "|     Real Sociedad|        55|\n",
            "|             Eibar|        38|\n",
            "|       Valencia CF|        45|\n",
            "|           Osasuna|        46|\n",
            "|Atlético de Madrid|        50|\n",
            "|     Celta de Vigo|        40|\n",
            "|           Sevilla|        61|\n",
            "|        Real Betis|        48|\n",
            "|           Levante|        45|\n",
            "|            Getafe|        45|\n",
            "|            Alavés|        34|\n",
            "|          Mallorca|        39|\n",
            "+------------------+----------+\n",
            "\n"
          ]
        }
      ]
    },
    {
      "cell_type": "markdown",
      "metadata": {
        "id": "anPA0hG6NN_x"
      },
      "source": [
        "* Defensas goleadores que han jugado más de 500 minutos"
      ]
    },
    {
      "cell_type": "code",
      "metadata": {
        "colab": {
          "base_uri": "https://localhost:8080/"
        },
        "id": "a1Gmx-ybNPEQ",
        "outputId": "f821ab70-6557-4e6b-e7b1-0a8e809956a4"
      },
      "source": [
        "jugones=estadisticas.where((col(\"played_time\") > '500')\n",
        "                            &  (col(\"position\") == 'Defender')\n",
        "                            &  (col(\"goals\") >  '1')).show()"
      ],
      "execution_count": null,
      "outputs": [
        {
          "output_type": "stream",
          "name": "stdout",
          "text": [
            "+---------------+-------+---------+--------------------+--------+-------------+-----------------+--------------------+-----------+-----------+-----------+------------+------+------+-------+--------+-------------------+---------------------+---------+-------+-------------------+-------------------+-------------+--------------+----------------------+--------------------------+-------------------------+-----+---------------------+----------------------+----------------+---------------+------------+-------------+-------------+-----------+-----------------------------+---------------------------------+------------------+-------------+------------------------------+------------+----------------------------------------------+------------------------------------------------+----------------+---------------------------+---------------+--------------+---------------+----------------+-----------------------+-------------------------+----------------------+------------------------+--------------------------+----------------------------+---------------------------------+-----------------------------------+----------------------------+------------------------------+--------------------------------+------------------------------+-----------+-----------------------------------+---------------------------+-----------------------------+-----------+---------+----------+------------------+----------------+-----------------+------------------+----------------+-----------------+-------------+-----------+------------+----------------+----------+-------------+----------+------+\n",
            "|           team|team_id|player_id|         player_name|position|   known_name|       first_name|           last_name|shirtNumber|played_time|appearances|played_games|starts|sub_on|sub_off|offsides|dribbles_successful|dribbles_unsuccessful|keypasses|assists|assists_intentional|assists_second_goal|through_balls|goals_conceded|goals_conceded_penalty|goals_conceded_outside_box|goals_conceded_inside_box|goals|goals_from_inside_box|goals_from_outside_box|goals_right_foot|goals_left_foot|goals_headed|goals_penalty|penalty_taken|shots_total|shots_on_target_include_goals|shots_off_target_include_woodwork|shots_hit_woodwork|shots_blocked|shots_attempts_from_set_pieces|passes_total|passes_total_exc_crosses_and_corners_succesful|passes_total_exc_crosses_and_corners_unsuccesful|passes_open_play|passes_open_play_successful|passes_backward|passes_forward|passes_leftside|passes_rightside|passes_short_successful|passes_short_unsuccessful|passes_long_successful|passes_long_unsuccessful|passes_own_half_successful|passes_own_half_unsuccessful|passes_opposition_half_successful|passes_opposition_half_unsuccessful|crosses_open_play_successful|crosses_open_play_unsuccessful|crosses_and_corners_unsuccessful|crosses_and_corners_successful|corners_won|corners_taken_include_short_corners|corners_into_box_successful|corners_into_box_unsuccessful|duels_total|duels_won|duels_lost|duels_ground_total|duels_ground_won|duels_ground_lost|duels_aerial_total|duels_aerial_won|duels_aerial_lost|tackles_total|tackles_won|tackles_lost|tackles_last_man|clearances|interceptions|recoveries|blocks|\n",
            "+---------------+-------+---------+--------------------+--------+-------------+-----------------+--------------------+-----------+-----------+-----------+------------+------+------+-------+--------+-------------------+---------------------+---------+-------+-------------------+-------------------+-------------+--------------+----------------------+--------------------------+-------------------------+-----+---------------------+----------------------+----------------+---------------+------------+-------------+-------------+-----------+-----------------------------+---------------------------------+------------------+-------------+------------------------------+------------+----------------------------------------------+------------------------------------------------+----------------+---------------------------+---------------+--------------+---------------+----------------+-----------------------+-------------------------+----------------------+------------------------+--------------------------+----------------------------+---------------------------------+-----------------------------------+----------------------------+------------------------------+--------------------------------+------------------------------+-----------+-----------------------------------+---------------------------+-----------------------------+-----------+---------+----------+------------------+----------------+-----------------+------------------+----------------+-----------------+-------------+-----------+------------+----------------+----------+-------------+----------+------+\n",
            "|         Getafe|   1450|    64662|     Leandro Cabrera|Defender|         null|          Leandro|             Cabrera|          6|       3060|         35|          35|    35|  null|      2|       2|                  8|                 null|        8|      1|                  1|               null|            2|            37|                     3|                         2|                       35|    2|                    2|                  null|            null|           null|           2|         null|         null|          9|                            3|                                6|                 1|            2|                          null|        1328|                                           827|                                             501|            1250|                        787|             55|           740|            231|             302|                    640|                      212|                   187|                     289|                       480|                         133|                              349|                                381|                           2|                            13|                              13|                             2|          7|                               null|                       null|                         null|        280|      163|       117|               105|              60|               45|               175|             103|               72|           38|         17|          21|               1|       142|           41|       153|    16|\n",
            "|         Getafe|   1450|    67527|    Allan-Roméo Nyom|Defender|         null|      Allan-Roméo|                Nyom|         12|       2430|         34|          34|    31|     3|     16|       3|                 15|                   19|       10|   null|               null|               null|         null|            28|                     5|                         2|                       26|    2|                    2|                  null|               1|           null|           1|         null|         null|          9|                            4|                                5|              null|            4|                          null|         621|                                           366|                                             255|             614|                        361|            115|           351|             91|              64|                    327|                      154|                    39|                     101|                       152|                          60|                              234|                                272|                          20|                            77|                              77|                            20|         18|                               null|                       null|                         null|        262|      119|       143|               196|              83|              113|                66|              36|               30|           45|         25|          20|            null|        43|           14|       125|     5|\n",
            "|         Alavés|    173|    93421|         Rodrigo Ely|Defender|         null|          Rodrigo|                 Ely|          4|       2125|         25|          25|    24|     1|      4|       2|                  3|                 null|        2|   null|               null|               null|         null|            32|                     8|                         4|                       28|    2|                    2|                  null|               2|           null|        null|         null|         null|          6|                            2|                                4|              null|         null|                          null|         889|                                           671|                                             218|             850|                        645|             58|           379|            221|             231|                    581|                      113|                    90|                     105|                       491|                          90|                              180|                                130|                        null|                             2|                               2|                          null|          1|                               null|                       null|                         null|        215|      124|        91|                80|              34|               46|               135|              90|               45|           22|         13|           9|            null|       112|           32|        97|    19|\n",
            "|  Athletic Club|    174|    42670|Yuri Berchiche Izeta|Defender|         Yuri|             Yuri|     Berchiche Izeta|         17|       2851|         33|          33|    32|     1|      3|       2|                 43|                   27|       29|      1|                  1|               null|            1|            29|                     5|                         3|                       26|    2|                    1|                     1|            null|              2|        null|         null|         null|         22|                            9|                               13|                 1|           13|                             2|        1283|                                          1049|                                             234|            1255|                       1023|            173|           490|             62|             558|                    963|                      190|                    86|                      44|                       464|                          74|                              605|                                246|                          19|                            86|                              86|                            20|         25|                                  3|                       null|                         null|        316|      194|       122|               236|             140|               96|                80|              54|               26|           48|         35|          13|            null|        53|           30|       211|     4|\n",
            "|  Athletic Club|    174|   140266|          Ander Capa|Defender|         null|            Ander|                Capa|         21|       2875|         35|          35|    32|     3|      6|       6|                 56|                   28|       19|      4|                  4|               null|         null|            32|                     4|                         4|                       28|    3|                    2|                     1|               3|           null|        null|         null|         null|         10|                            7|                                3|              null|            6|                          null|        1146|                                           861|                                             285|            1130|                        846|            247|           460|            388|              51|                    825|                      202|                    36|                      83|                       373|                         100|                              505|                                268|                          17|                            83|                              83|                            17|         17|                                  2|                       null|                         null|        332|      177|       155|               262|             132|              130|                70|              45|               25|           64|         36|          28|               1|        52|           28|       138|     7|\n",
            "|       Espanyol|    177|    64662|     Leandro Cabrera|Defender|         null|          Leandro|             Cabrera|         18|       3060|         35|          35|    35|  null|      2|       2|                  8|                 null|        8|      1|                  1|               null|            2|            37|                     3|                         2|                       35|    2|                    2|                  null|            null|           null|           2|         null|         null|          9|                            3|                                6|                 1|            2|                          null|        1328|                                           827|                                             501|            1250|                        787|             55|           740|            231|             302|                    640|                      212|                   187|                     289|                       480|                         133|                              349|                                381|                           2|                            13|                              13|                             2|          7|                               null|                       null|                         null|        280|      163|       117|               105|              60|               45|               175|             103|               72|           38|         17|          21|               1|       142|           41|       153|    16|\n",
            "|       Espanyol|    177|    55317|   Bernardo Espinosa|Defender|         null|         Bernardo|            Espinosa|         20|       2261|         26|          26|    26|  null|      1|       3|                  3|                    1|        4|   null|               null|               null|         null|            38|                     5|                         3|                       35|    3|                    3|                  null|               1|           null|           1|         null|         null|         18|                            8|                               10|              null|            4|                          null|        1112|                                           825|                                             287|            1077|                        802|             46|           478|            346|             242|                    751|                      155|                    74|                     132|                       635|                          94|                              190|                                194|                        null|                             1|                               1|                          null|          2|                               null|                       null|                         null|        263|      160|       103|                89|              43|               46|               174|             117|               57|           24|         16|           8|            null|       105|           24|       126|    11|\n",
            "|       Espanyol|    177|    11129|         David López|Defender|  David López|            David|               López|         15|       2462|         32|          32|    29|     3|      9|       1|                  4|                    2|       12|      2|                  1|               null|            1|            40|                     5|                         1|                       39|    4|                    4|                  null|            null|           null|           4|         null|         null|         13|                           11|                                2|              null|            3|                          null|        1382|                                          1106|                                             276|            1337|                       1067|            129|           556|            416|             281|                   1014|                      161|                    92|                     115|                       645|                          90|                              465|                                194|                           4|                             8|                               8|                             4|          5|                               null|                       null|                         null|        276|      143|       133|               138|              64|               74|               138|              79|               59|           38|         20|          18|               1|        59|           35|       187|    13|\n",
            "|      Barcelona|    178|    52356|          Jordi Alba|Defender|         null|            Jordi|                Alba|         18|       2190|         27|          27|    25|     2|      4|       5|                 12|                    9|       25|      5|                  4|               null|            3|            23|                     4|                         1|                       22|    2|                    2|                  null|            null|              2|        null|         null|         null|          6|                            3|                                3|              null|            1|                          null|        1908|                                          1691|                                             217|            1873|                       1656|            400|           501|            114|             893|                   1627|                      178|                    64|                      39|                       636|                          62|                             1068|                                207|                          13|                            52|                              52|                            13|         18|                                  2|                       null|                         null|        124|       56|        68|               100|              50|               50|                24|               6|               18|           20|         13|           7|            null|        28|           37|       129|     3|\n",
            "|      Barcelona|    178|   171101|     Clément Lenglet|Defender|         null|          Clément|             Lenglet|         15|       2428|         28|          28|    28|  null|      2|       2|                  5|                    5|        5|      1|                  1|               null|            1|            28|                     6|                         3|                       25|    2|                    2|                  null|            null|              1|           1|         null|         null|         10|                            3|                                7|              null|         null|                          null|        2140|                                          1976|                                             164|            2086|                       1924|            122|           719|            457|             842|                   1869|                       99|                   107|                      65|                      1228|                          81|                              748|                                 83|                        null|                          null|                            null|                          null|          2|                               null|                       null|                         null|        228|      133|        95|               124|              69|               55|               104|              64|               40|           44|         31|          13|               2|        74|           35|       138|    15|\n",
            "|        Sevilla|    179|   199249|     Sergio Reguilón|Defender|         null|           Sergio|            Reguilón|         23|       2509|         31|          31|    29|     2|      3|       4|                 49|                   20|       37|      4|                  4|               null|         null|            22|                     1|                         2|                       20|    2|                    2|                  null|               1|              1|        null|         null|         null|         16|                            7|                                9|              null|           12|                          null|        1470|                                          1196|                                             274|            1442|                       1171|            280|           498|            102|             590|                   1124|                      205|                    72|                      69|                       549|                         105|                              675|                                241|                          28|                            72|                              72|                            28|         21|                               null|                       null|                         null|        366|      190|       176|               286|             150|              136|                80|              40|               40|           57|         30|          27|            null|        42|           33|       165|     5|\n",
            "|        Sevilla|    179|   165659|Diego Carlos Sant...|Defender| Diego Carlos|     Diego Carlos|        Santos Silva|         20|       3135|         35|          35|    35|  null|      1|       2|                  7|                 null|       10|   null|               null|               null|            1|            31|                     2|                         3|                       28|    2|                    2|                  null|            null|              1|           1|         null|         null|         18|                            3|                               15|              null|            3|                          null|        1902|                                          1601|                                             301|            1839|                       1557|             81|           693|            543|             585|                   1432|                      135|                   169|                     166|                      1188|                         105|                              416|                                197|                           3|                             1|                               1|                             3|          1|                               null|                       null|                         null|        259|      148|       111|               102|              51|               51|               157|              97|               60|           35|         23|          12|               1|       174|           37|       183|    24|\n",
            "|     Real Betis|    185|    81138|         Marc Bartra|Defender|         null|             Marc|              Bartra|          5|       2526|         30|          30|    29|     1|      4|       1|                 14|                    4|        4|      1|               null|                  1|            3|            48|                    10|                         2|                       46|    3|                    3|                  null|               1|           null|           2|         null|         null|         18|                            4|                               14|              null|            5|                          null|        1671|                                          1425|                                             246|            1598|                       1358|             91|           587|            531|             462|                   1320|                      137|                   105|                     109|                      1032|                         105|                              394|                                142|                           1|                             1|                               1|                             1|       null|                               null|                       null|                         null|        337|      201|       136|               168|              99|               69|               169|             102|               67|           62|         34|          28|            null|       122|           35|       152|    24|\n",
            "|     Real Betis|    185|   241157|Emerson Aparecido...|Defender|      Emerson|Emerson Aparecido|Leite de Souza Ju...|         22|       2840|         33|          33|    32|     1|      3|       1|                 14|                   30|       23|      6|                  5|               null|            3|            49|                     9|                         4|                       45|    3|                    3|                  null|               2|           null|           1|         null|         null|         19|                            5|                               14|              null|            7|                          null|        1265|                                          1000|                                             265|            1220|                        955|            255|           455|            469|              86|                    935|                      216|                    65|                      49|                       463|                         111|                              555|                                216|                          18|                            62|                              62|                            18|         20|                               null|                       null|                         null|        425|      246|       179|               319|             181|              138|               106|              65|               41|           74|         46|          28|            null|        45|           31|       138|     9|\n",
            "|    Real Madrid|    186|    17861|        Sergio Ramos|Defender|         null|           Sergio|               Ramos|          4|       3016|         35|          35|    35|  null|      4|       7|                 11|                    2|        5|   null|               null|               null|            1|            21|                     2|                      null|                       21|   11|                   10|                     1|               8|           null|           3|            6|            6|         35|                           17|                               18|              null|            4|                             4|        2150|                                          1957|                                             193|            2078|                       1899|            102|           806|            600|             642|                   1719|                      106|                   238|                      87|                      1225|                          78|                              732|                                117|                        null|                             2|                               2|                          null|          5|                               null|                       null|                         null|        279|      152|       127|               153|              82|               71|               126|              70|               56|           46|         31|          15|            null|        98|           49|       211|     9|\n",
            "|    Real Madrid|    186|    90152|      Raphael Varane|Defender|         null|          Raphael|              Varane|          5|       2823|         32|          32|    32|  null|      1|       1|                  8|                    4|        5|      1|                  1|               null|            1|            21|                     1|                      null|                       21|    2|                    2|                  null|            null|              1|           1|         null|         null|          8|                            2|                                6|              null|            3|                          null|        1670|                                          1458|                                             212|            1612|                       1404|            114|           557|            580|             419|                   1299|                      110|                   159|                     102|                      1074|                          82|                              384|                                132|                        null|                             2|                               2|                          null|          1|                               null|                       null|                         null|        201|      130|        71|                84|              49|               35|               117|              81|               36|           30|         17|          13|            null|       117|           31|       159|    16|\n",
            "|  Real Sociedad|    188|    38411|     Ignacio Monreal|Defender|Nacho Monreal|          Ignacio|             Monreal|         20|       2392|         29|          29|    27|     2|      4|       2|                 10|                    5|       13|   null|               null|               null|         null|            32|                     6|                         3|                       29|    2|                    2|                  null|            null|              1|           1|         null|         null|         13|                            7|                                6|              null|            6|                          null|        1081|                                           903|                                             178|            1060|                        884|            245|           393|             28|             415|                    874|                      136|                    29|                      42|                       495|                          63|                              423|                                162|                          15|                            47|                              47|                            15|         15|                               null|                       null|                         null|        230|      118|       112|               124|              65|               59|               106|              53|               53|           38|         16|          22|            null|        53|           43|        87|     4|\n",
            "|Real Valladolid|    192|    58819|Francisco José Ol...|Defender|  Kiko Olivas|   Francisco José|         Olivas Alba|          4|       2942|         35|          35|    33|     2|      1|       4|                  9|                    3|        3|   null|               null|               null|            1|            40|                     5|                         4|                       36|    2|                    2|                  null|               1|           null|           1|         null|         null|          8|                            4|                                4|              null|            1|                          null|        1272|                                          1105|                                             167|            1213|                       1059|             93|           455|            502|             222|                   1024|                       86|                    81|                      81|                       806|                          63|                              299|                                104|                        null|                          null|                            null|                          null|          1|                               null|                       null|                         null|        208|      117|        91|               111|              68|               43|                97|              49|               48|           33|         16|          17|            null|       109|           61|       193|    16|\n",
            "|     Villarreal|    449|   244954|          Pau Torres|Defender|         null|              Pau|              Torres|          4|       2971|         34|          34|    33|     1|   null|    null|                 10|                    3|       10|      1|                  1|               null|            1|            45|                     8|                         8|                       37|    2|                    2|                  null|            null|              1|           1|         null|         null|         10|                            2|                                8|              null|         null|                          null|        2024|                                          1729|                                             295|            1953|                       1666|             81|           697|            401|             845|                   1514|                      139|                   215|                     156|                      1263|                         108|                              466|                                189|                        null|                             2|                               2|                          null|          2|                               null|                       null|                         null|        203|       98|       105|                96|              51|               45|               107|              47|               60|           34|         21|          13|            null|       148|           27|       203|    23|\n",
            "|        Osasuna|    450|    89399|   Aridane Hernández|Defender|         null|          Aridane|           Hernández|         23|       2610|         29|          29|    29|  null|   null|    null|                  3|                    1|        3|   null|               null|               null|         null|            36|                     4|                         4|                       32|    3|                    3|                  null|            null|           null|           3|         null|         null|         12|                            3|                                9|                 1|         null|                          null|         986|                                           752|                                             234|             953|                        727|             97|           396|            264|             229|                    658|                      119|                    94|                     115|                       549|                          93|                              204|                                141|                           1|                          null|                            null|                             1|       null|                               null|                       null|                         null|        214|      143|        71|                72|              47|               25|               142|              96|               46|           35|         23|          12|            null|       135|           34|       144|    15|\n",
            "+---------------+-------+---------+--------------------+--------+-------------+-----------------+--------------------+-----------+-----------+-----------+------------+------+------+-------+--------+-------------------+---------------------+---------+-------+-------------------+-------------------+-------------+--------------+----------------------+--------------------------+-------------------------+-----+---------------------+----------------------+----------------+---------------+------------+-------------+-------------+-----------+-----------------------------+---------------------------------+------------------+-------------+------------------------------+------------+----------------------------------------------+------------------------------------------------+----------------+---------------------------+---------------+--------------+---------------+----------------+-----------------------+-------------------------+----------------------+------------------------+--------------------------+----------------------------+---------------------------------+-----------------------------------+----------------------------+------------------------------+--------------------------------+------------------------------+-----------+-----------------------------------+---------------------------+-----------------------------+-----------+---------+----------+------------------+----------------+-----------------+------------------+----------------+-----------------+-------------+-----------+------------+----------------+----------+-------------+----------+------+\n",
            "only showing top 20 rows\n",
            "\n"
          ]
        }
      ]
    },
    {
      "cell_type": "markdown",
      "metadata": {
        "application/vnd.databricks.v1+cell": {
          "title": "",
          "showTitle": false,
          "inputWidgets": {},
          "nuid": "d2929743-e048-4053-9d47-cc73f4f12607"
        },
        "id": "CIixpvCNP_Jk"
      },
      "source": [
        "6. Crear una nueva columna en el DataFrame con la división de dos columnas existentes. Redondear esa columna a 2 decimales. \n",
        "- Se tienen muchas columnas de acciones bien y acciones totales, crear una columna con el % de acciones bien para ese evento.  Por ejemplo:\n",
        "    \n",
        "* entradas ganadas y entradas totales (tackles_won y tackles_total)"
      ]
    },
    {
      "cell_type": "code",
      "metadata": {
        "colab": {
          "base_uri": "https://localhost:8080/"
        },
        "id": "OqRFHJX_OL9J",
        "outputId": "2a560736-ef81-44b2-9b4b-9c23e012f407"
      },
      "source": [
        "estadisticas = estadisticas.na.fill({'tackles_won': 0})\n",
        "estadisticas = estadisticas.na.fill({'tackles_total':0})\n",
        "estadisticas = estadisticas.withColumn(\"%Entradas ganadas\", round((estadisticas['tackles_won']/estadisticas['tackles_total']*100)))\n",
        "estadisticas.select(\"player_name\",\"tackles_total\",\"tackles_won\",\"%Entradas ganadas\").show() "
      ],
      "execution_count": null,
      "outputs": [
        {
          "output_type": "stream",
          "name": "stdout",
          "text": [
            "+--------------------+-------------+-----------+-----------------+\n",
            "|         player_name|tackles_total|tackles_won|%Entradas ganadas|\n",
            "+--------------------+-------------+-----------+-----------------+\n",
            "|     Mauro Arambarri|           72|         33|             46.0|\n",
            "|      Markel Bergara|            0|          0|             null|\n",
            "|        Erick Cabaco|           15|         11|             73.0|\n",
            "|     Leandro Cabrera|           38|         17|             45.0|\n",
            "|      Marc Cucurella|           75|         52|             69.0|\n",
            "|       Djené Dakonam|           41|         31|             76.0|\n",
            "|           Hugo Duro|            6|          5|             83.0|\n",
            "|    Oghenekaro Etebo|           12|          4|             33.0|\n",
            "|      Xabier Etxeita|           20|         11|             55.0|\n",
            "|         Faycal Fajr|            1|          1|            100.0|\n",
            "|Enrique Gallego P...|           12|          6|             50.0|\n",
            "|         Raúl García|           25|         15|             60.0|\n",
            "|      Bruno González|           13|         10|             77.0|\n",
            "|  Nemanja Maksimovic|           48|         28|             58.0|\n",
            "|          Jaime Mata|           21|         13|             62.0|\n",
            "|        Jorge Molina|            8|          2|             25.0|\n",
            "|        Amath Ndiaye|            2|          1|             50.0|\n",
            "|Robert Kenedy Nun...|            9|          5|             56.0|\n",
            "|    Allan-Roméo Nyom|           45|         25|             56.0|\n",
            "|     Mathías Olivera|           64|         40|             63.0|\n",
            "+--------------------+-------------+-----------+-----------------+\n",
            "only showing top 20 rows\n",
            "\n"
          ]
        }
      ]
    },
    {
      "cell_type": "markdown",
      "metadata": {
        "id": "5_C1pdMHOYBY"
      },
      "source": [
        "   * duelos aéreos ganados y duelos aéreos totales (duels_aerial_won y duels_aerial_total)"
      ]
    },
    {
      "cell_type": "markdown",
      "metadata": {
        "id": "2kbEwDwEPhTw"
      },
      "source": [
        "## SQL"
      ]
    },
    {
      "cell_type": "code",
      "metadata": {
        "colab": {
          "base_uri": "https://localhost:8080/"
        },
        "id": "ePXh7TQ_PhBY",
        "outputId": "65162c4b-ad82-4c31-c78e-0dfb1f259635"
      },
      "source": [
        "estadisticas.createOrReplaceTempView(\"OPTA\")\n",
        ".sqlspark(\"SELECT * \\\n",
        "           FROM OPTA\").show()"
      ],
      "execution_count": null,
      "outputs": [
        {
          "output_type": "stream",
          "name": "stdout",
          "text": [
            "+------+-------+---------+--------------------+----------+-------------+-------------+-------------------+-----------+-----------+-----------+------------+------+------+-------+--------+-------------------+---------------------+---------+-------+-------------------+-------------------+-------------+--------------+----------------------+--------------------------+-------------------------+-----+---------------------+----------------------+----------------+---------------+------------+-------------+-------------+-----------+-----------------------------+---------------------------------+------------------+-------------+------------------------------+------------+----------------------------------------------+------------------------------------------------+----------------+---------------------------+---------------+--------------+---------------+----------------+-----------------------+-------------------------+----------------------+------------------------+--------------------------+----------------------------+---------------------------------+-----------------------------------+----------------------------+------------------------------+--------------------------------+------------------------------+-----------+-----------------------------------+---------------------------+-----------------------------+-----------+---------+----------+------------------+----------------+-----------------+------------------+----------------+-----------------+-------------+-----------+------------+----------------+----------+-------------+----------+------+-----------------+\n",
            "|  team|team_id|player_id|         player_name|  position|   known_name|   first_name|          last_name|shirtNumber|played_time|appearances|played_games|starts|sub_on|sub_off|offsides|dribbles_successful|dribbles_unsuccessful|keypasses|assists|assists_intentional|assists_second_goal|through_balls|goals_conceded|goals_conceded_penalty|goals_conceded_outside_box|goals_conceded_inside_box|goals|goals_from_inside_box|goals_from_outside_box|goals_right_foot|goals_left_foot|goals_headed|goals_penalty|penalty_taken|shots_total|shots_on_target_include_goals|shots_off_target_include_woodwork|shots_hit_woodwork|shots_blocked|shots_attempts_from_set_pieces|passes_total|passes_total_exc_crosses_and_corners_succesful|passes_total_exc_crosses_and_corners_unsuccesful|passes_open_play|passes_open_play_successful|passes_backward|passes_forward|passes_leftside|passes_rightside|passes_short_successful|passes_short_unsuccessful|passes_long_successful|passes_long_unsuccessful|passes_own_half_successful|passes_own_half_unsuccessful|passes_opposition_half_successful|passes_opposition_half_unsuccessful|crosses_open_play_successful|crosses_open_play_unsuccessful|crosses_and_corners_unsuccessful|crosses_and_corners_successful|corners_won|corners_taken_include_short_corners|corners_into_box_successful|corners_into_box_unsuccessful|duels_total|duels_won|duels_lost|duels_ground_total|duels_ground_won|duels_ground_lost|duels_aerial_total|duels_aerial_won|duels_aerial_lost|tackles_total|tackles_won|tackles_lost|tackles_last_man|clearances|interceptions|recoveries|blocks|%Entradas ganadas|\n",
            "+------+-------+---------+--------------------+----------+-------------+-------------+-------------------+-----------+-----------+-----------+------------+------+------+-------+--------+-------------------+---------------------+---------+-------+-------------------+-------------------+-------------+--------------+----------------------+--------------------------+-------------------------+-----+---------------------+----------------------+----------------+---------------+------------+-------------+-------------+-----------+-----------------------------+---------------------------------+------------------+-------------+------------------------------+------------+----------------------------------------------+------------------------------------------------+----------------+---------------------------+---------------+--------------+---------------+----------------+-----------------------+-------------------------+----------------------+------------------------+--------------------------+----------------------------+---------------------------------+-----------------------------------+----------------------------+------------------------------+--------------------------------+------------------------------+-----------+-----------------------------------+---------------------------+-----------------------------+-----------+---------+----------+------------------+----------------+-----------------+------------------+----------------+-----------------+-------------+-----------+------------+----------------+----------+-------------+----------+------+-----------------+\n",
            "|Getafe|   1450|   171222|     Mauro Arambarri|Midfielder|         null|        Mauro|          Arambarri|         18|       3071|         35|          35|    34|     1|      3|    null|                 30|                   13|       15|      1|                  1|               null|         null|            33|                     5|                         2|                       31|    1|                    1|                  null|            null|           null|           1|         null|         null|         33|                            7|                               26|              null|           14|                             5|         896|                                           608|                                             288|             864|                        580|             99|           314|            226|             257|                    522|                      199|                    86|                      89|                       213|                          54|                              408|                                266|                           9|                            26|                              32|                            13|         11|                                 13|                          1|                            3|        461|      236|       225|               315|             163|              152|               146|              73|               73|           72|         33|          39|            null|        33|           43|       201|     5|             46.0|\n",
            "|Getafe|   1450|    20150|      Markel Bergara|Midfielder|         null|       Markel|            Bergara|          5|         70|          2|           2|  null|     2|   null|    null|               null|                 null|     null|   null|               null|               null|         null|          null|                  null|                      null|                     null|    0|                 null|                  null|            null|           null|        null|         null|         null|       null|                         null|                             null|              null|            1|                          null|          16|                                             9|                                               7|              16|                          9|              2|             5|              5|               4|                      9|                        6|                  null|                       1|                         3|                           1|                                6|                                  8|                        null|                             2|                               2|                          null|          1|                               null|                       null|                         null|          5|        1|         4|                 2|            null|                2|                 3|               1|                2|            0|          0|        null|            null|         2|         null|         2|  null|             null|\n",
            "|Getafe|   1450|   169586|        Erick Cabaco|  Defender|         null|        Erick|             Cabaco|          4|       1075|         15|          15|    12|     3|      3|    null|                  4|                    1|        2|   null|               null|               null|         null|            12|                     1|                         2|                       10|    0|                 null|                  null|            null|           null|        null|         null|         null|          3|                         null|                                3|              null|            2|                          null|         485|                                           353|                                             132|             451|                        326|             15|           246|            147|              77|                    285|                       53|                    68|                      79|                       228|                          43|                              125|                                 94|                        null|                             5|                               5|                          null|          3|                               null|                       null|                         null|        100|       58|        42|                45|              27|               18|                55|              31|               24|           15|         11|           4|            null|        60|           15|        61|     8|             73.0|\n",
            "|Getafe|   1450|    64662|     Leandro Cabrera|  Defender|         null|      Leandro|            Cabrera|          6|       3060|         35|          35|    35|  null|      2|       2|                  8|                 null|        8|      1|                  1|               null|            2|            37|                     3|                         2|                       35|    2|                    2|                  null|            null|           null|           2|         null|         null|          9|                            3|                                6|                 1|            2|                          null|        1328|                                           827|                                             501|            1250|                        787|             55|           740|            231|             302|                    640|                      212|                   187|                     289|                       480|                         133|                              349|                                381|                           2|                            13|                              13|                             2|          7|                               null|                       null|                         null|        280|      163|       117|               105|              60|               45|               175|             103|               72|           38|         17|          21|               1|       142|           41|       153|    16|             45.0|\n",
            "|Getafe|   1450|   179268|      Marc Cucurella|  Defender|         null|         Marc|          Cucurella|         15|       3248|         37|          37|    37|  null|     13|       6|                 23|                   26|       48|      5|                  5|               null|            1|            33|                     4|                         2|                       31|    1|                    1|                  null|            null|              1|        null|         null|         null|         21|                            6|                               15|                 2|            9|                             2|        1128|                                           764|                                             364|            1096|                        732|            197|           495|             89|             347|                    725|                      261|                    39|                     103|                       188|                          77|                              604|                                386|                          24|                            93|                              99|                            28|          9|                                 16|                       null|                            1|        474|      211|       263|               337|             156|              181|               137|              55|               82|           75|         52|          23|            null|        22|           36|       242|     8|             69.0|\n",
            "|Getafe|   1450|   149838|       Djené Dakonam|  Defender|         null|        Djené|            Dakonam|          2|       3060|         34|          34|    34|  null|   null|       1|                 14|                    4|        6|   null|               null|               null|            2|            34|                     5|                         2|                       32|    0|                 null|                  null|            null|           null|        null|         null|         null|          5|                            1|                                4|              null|         null|                          null|        1012|                                           703|                                             309|             973|                        670|             84|           513|            239|             176|                    583|                      144|                   120|                     165|                       411|                         124|                              296|                                191|                           4|                             6|                               6|                             4|       null|                               null|                       null|                         null|        294|      166|       128|               142|              80|               62|               152|              86|               66|           41|         31|          10|               1|       104|           34|       228|     7|             76.0|\n",
            "|Getafe|   1450|   439716|           Hugo Duro|   Forward|         null|         Hugo|               Duro|         26|        374|         12|          12|     4|     8|      4|       1|               null|                 null|        2|      1|               null|               null|         null|             8|                     3|                         1|                        7|    1|                    1|                  null|            null|           null|           1|         null|         null|          5|                            3|                                2|              null|            1|                          null|          68|                                            40|                                              28|              68|                         40|             18|            26|              4|              20|                     38|                       26|                     2|                       2|                        13|                           3|                               27|                                 29|                        null|                             4|                               4|                          null|          3|                               null|                       null|                         null|        102|       36|        66|                45|              21|               24|                57|              15|               42|            6|          5|           1|            null|         3|            1|        12|  null|             83.0|\n",
            "|Getafe|   1450|   227560|    Oghenekaro Etebo|Midfielder|         null|   Oghenekaro|              Etebo|          5|        574|         10|          10|     6|     4|      5|    null|                  4|                    2|        3|   null|               null|               null|            1|             6|                  null|                      null|                        6|    1|                    1|                  null|               1|           null|        null|         null|         null|          8|                            3|                                5|              null|            1|                          null|         200|                                           125|                                              75|             198|                        123|             31|            90|             41|              38|                    113|                       51|                    12|                      24|                        39|                          21|                               87|                                 67|                           1|                            13|                              13|                             1|          3|                               null|                       null|                         null|         82|       45|        37|                45|              23|               22|                37|              22|               15|           12|          4|           8|            null|         3|           11|        43|     1|             33.0|\n",
            "|Getafe|   1450|    58637|      Xabier Etxeita|  Defender|         null|       Xabier|            Etxeita|         16|       1446|         17|          17|    16|     1|      1|    null|               null|                    1|        2|   null|               null|               null|         null|            14|                     4|                      null|                       14|    0|                 null|                  null|            null|           null|        null|         null|         null|          4|                            2|                                2|              null|            2|                          null|         438|                                           237|                                             201|             419|                        225|             17|           258|             72|              91|                    182|                      101|                    55|                     100|                       125|                          76|                              112|                                125|                        null|                          null|                            null|                          null|          4|                               null|                       null|                         null|        147|       82|        65|                57|              31|               26|                90|              51|               39|           20|         11|           9|            null|        68|           17|        58|     5|             55.0|\n",
            "|Getafe|   1450|    92724|         Faycal Fajr|Midfielder|         null|       Faycal|               Fajr|         21|        402|         10|          10|     5|     5|      3|    null|                  1|                 null|        9|   null|               null|               null|         null|             6|                  null|                      null|                        6|    0|                 null|                  null|            null|           null|        null|         null|         null|          7|                            3|                                4|                 1|            2|                             3|         158|                                           107|                                              51|             141|                         96|             26|            72|             30|              30|                     78|                       31|                    29|                      20|                        29|                           9|                               86|                                 66|                           3|                             9|                              24|                             8|          2|                                 20|                          4|                           12|         37|       16|        21|                16|               6|               10|                21|              10|               11|            1|          1|        null|            null|      null|            4|        19|  null|            100.0|\n",
            "|Getafe|   1450|   454317|Enrique Gallego P...|   Forward|Enric Gallego|      Enrique|   Gallego Puigsech|         10|       1042|         19|          19|    11|     8|      4|      10|                  6|                    6|        9|   null|               null|               null|         null|            13|                  null|                         1|                       12|    3|                    3|                  null|            null|              1|           2|         null|         null|         17|                            8|                                9|              null|            7|                          null|         284|                                           151|                                             133|             269|                        136|             52|            90|             69|              73|                    148|                      128|                     3|                       5|                        41|                          13|                              111|                                124|                           1|                             4|                               4|                             1|          6|                               null|                       null|                         null|        286|      129|       157|                77|              26|               51|               209|             103|              106|           12|          6|           6|            null|         8|            6|        29|     2|             50.0|\n",
            "|Getafe|   1450|    80908|         Raúl García|  Defender|  Raúl García|         Raúl|             García|         14|       1260|         16|          16|    15|     1|      5|       1|                  8|                    7|       11|      1|               null|               null|         null|            12|                     3|                      null|                       12|    0|                 null|                  null|            null|           null|        null|         null|         null|          5|                            3|                                2|              null|            3|                             1|         395|                                           275|                                             120|             386|                        271|             62|           210|             31|              92|                    248|                       62|                    27|                      58|                       139|                          36|                              157|                                149|                          19|                            51|                              65|                            21|          6|                                  7|                       null|                            5|        116|       63|        53|                81|              44|               37|                35|              19|               16|           25|         15|          10|            null|        28|           12|        66|     3|             60.0|\n",
            "|Getafe|   1450|    98976|      Bruno González|  Defender|         null|        Bruno|           González|          4|        635|          8|           8|     7|     1|   null|       1|               null|                 null|     null|   null|               null|               null|         null|             9|                  null|                         1|                        8|    0|                 null|                  null|            null|           null|        null|         null|         null|          1|                         null|                                1|              null|         null|                          null|         279|                                           235|                                              44|             267|                        225|             30|            91|             84|              74|                    213|                       19|                    22|                      25|                       166|                          20|                               69|                                 24|                        null|                          null|                            null|                          null|          1|                               null|                       null|                         null|         46|       27|        19|                28|              17|               11|                18|              10|                8|           13|         10|           3|            null|        35|            2|        40|     4|             77.0|\n",
            "|Getafe|   1450|   198499|  Nemanja Maksimovic|Midfielder|         null|      Nemanja|         Maksimovic|         20|       2898|         35|          35|    33|     2|      5|       1|                 11|                    5|       14|   null|               null|               null|         null|            31|                     5|                         2|                       29|    2|                    2|                  null|               1|           null|           1|         null|         null|         28|                           11|                               17|                 1|            6|                          null|         727|                                           511|                                             216|             658|                        443|            113|           293|            136|             185|                    480|                      166|                    31|                      50|                       196|                          61|                              319|                                159|                           4|                             4|                               4|                             4|          4|                               null|                       null|                         null|        283|      144|       139|               131|              69|               62|               152|              75|               77|           48|         28|          20|            null|        28|           56|       136|     7|             58.0|\n",
            "|Getafe|   1450|   109270|          Jaime Mata|   Forward|         null|        Jaime|               Mata|          7|       2757|         34|          34|    33|     1|     15|      38|                 14|                   18|       26|      3|                  3|               null|            2|            23|                     2|                         2|                       21|   11|                   11|                  null|               9|           null|           2|            3|            4|         49|                           25|                               24|                 2|            8|                          null|         704|                                           467|                                             237|             695|                        458|            195|           167|            166|             176|                    456|                      225|                    11|                      12|                       124|                          35|                              357|                                246|                          14|                            44|                              44|                            14|         26|                               null|                       null|                         null|        483|      190|       293|               237|              85|              152|               246|             105|              141|           21|         13|           8|            null|        15|            7|        94|     1|             62.0|\n",
            "|Getafe|   1450|    76555|        Jorge Molina|   Forward|         null|        Jorge|             Molina|         19|       1891|         34|          34|    23|    11|     17|      16|                 23|                   18|       21|      3|                  3|               null|            4|            19|                     1|                      null|                       19|    5|                    5|                  null|               4|              1|        null|            2|            2|         25|                           11|                               14|                 2|            7|                          null|         576|                                           376|                                             200|             568|                        368|            114|           176|            157|             129|                    366|                      191|                    10|                       9|                        70|                          19|                              310|                                194|                           4|                            13|                              13|                             4|         18|                               null|                       null|                         null|        366|      155|       211|               162|              70|               92|               204|              85|              119|            8|          2|           6|            null|        16|            4|        81|     2|             25.0|\n",
            "|Getafe|   1450|   225463|        Amath Ndiaye|   Forward|         null|        Amath|             Ndiaye|         11|         60|          7|           7|  null|     7|   null|    null|                  5|                    5|     null|   null|               null|               null|         null|             2|                  null|                      null|                        2|    0|                 null|                  null|            null|           null|        null|         null|         null|       null|                         null|                             null|              null|         null|                          null|          17|                                            11|                                               6|              16|                         10|              7|             6|              1|               3|                     10|                        6|                     1|                    null|                         1|                           2|                               10|                                  4|                        null|                          null|                            null|                          null|          2|                                  1|                       null|                         null|         27|       12|        15|                26|              11|               15|                 1|               1|             null|            2|          1|           1|            null|      null|         null|         4|  null|             50.0|\n",
            "|Getafe|   1450|   167767|Robert Kenedy Nun...|Midfielder|       Kenedy|Robert Kenedy|Nunes do Nascimento|         25|        576|         19|          19|     3|    16|      3|       1|                 18|                   13|        7|      3|                  3|               null|            2|             4|                  null|                      null|                        4|    1|                    1|                  null|            null|              1|        null|         null|         null|          8|                            3|                                5|              null|            6|                          null|         158|                                           113|                                              45|             156|                        111|             37|            53|             25|              43|                    107|                       37|                     6|                       8|                        22|                           6|                              103|                                 60|                           8|                            18|                              21|                            12|          5|                                  6|                          4|                            1|        102|       42|        60|                84|              35|               49|                18|               7|               11|            9|          5|           4|            null|         4|           11|        44|  null|             56.0|\n",
            "|Getafe|   1450|    67527|    Allan-Roméo Nyom|  Defender|         null|  Allan-Roméo|               Nyom|         12|       2430|         34|          34|    31|     3|     16|       3|                 15|                   19|       10|   null|               null|               null|         null|            28|                     5|                         2|                       26|    2|                    2|                  null|               1|           null|           1|         null|         null|          9|                            4|                                5|              null|            4|                          null|         621|                                           366|                                             255|             614|                        361|            115|           351|             91|              64|                    327|                      154|                    39|                     101|                       152|                          60|                              234|                                272|                          20|                            77|                              77|                            20|         18|                               null|                       null|                         null|        262|      119|       143|               196|              83|              113|                66|              36|               30|           45|         25|          20|            null|        43|           14|       125|     5|             56.0|\n",
            "|Getafe|   1450|   214966|     Mathías Olivera|  Defender|         null|      Mathías|            Olivera|         17|       1872|         24|          24|    21|     3|      3|       3|                 23|                   12|        9|      1|                  1|               null|         null|            20|                     4|                         1|                       19|    0|                 null|                  null|            null|           null|        null|         null|         null|          5|                            1|                                4|                 1|            1|                          null|         605|                                           323|                                             282|             590|                        310|             47|           395|             34|             129|                    302|                      190|                    21|                      92|                        91|                          74|                              242|                                247|                          10|                            37|                              39|                            10|          7|                                  1|                       null|                         null|        323|      176|       147|               171|             102|               69|               152|              74|               78|           64|         40|          24|               1|        39|           24|       107|     3|             63.0|\n",
            "+------+-------+---------+--------------------+----------+-------------+-------------+-------------------+-----------+-----------+-----------+------------+------+------+-------+--------+-------------------+---------------------+---------+-------+-------------------+-------------------+-------------+--------------+----------------------+--------------------------+-------------------------+-----+---------------------+----------------------+----------------+---------------+------------+-------------+-------------+-----------+-----------------------------+---------------------------------+------------------+-------------+------------------------------+------------+----------------------------------------------+------------------------------------------------+----------------+---------------------------+---------------+--------------+---------------+----------------+-----------------------+-------------------------+----------------------+------------------------+--------------------------+----------------------------+---------------------------------+-----------------------------------+----------------------------+------------------------------+--------------------------------+------------------------------+-----------+-----------------------------------+---------------------------+-----------------------------+-----------+---------+----------+------------------+----------------+-----------------+------------------+----------------+-----------------+-------------+-----------+------------+----------------+----------+-------------+----------+------+-----------------+\n",
            "only showing top 20 rows\n",
            "\n"
          ]
        }
      ]
    },
    {
      "cell_type": "code",
      "metadata": {
        "colab": {
          "base_uri": "https://localhost:8080/"
        },
        "id": "EK9sH1_uQQzw",
        "outputId": "9fefc23f-6cc9-4b43-c667-33ce2a4b2f5e"
      },
      "source": [
        "spark.sql(\"SELECT Team, SUM(goals) as goals FROM OPTA GROUP BY Team ORDER BY GOALS DESC\").show()"
      ],
      "execution_count": null,
      "outputs": [
        {
          "output_type": "stream",
          "name": "stdout",
          "text": [
            "+------------------+-----+\n",
            "|              Team|goals|\n",
            "+------------------+-----+\n",
            "|         Barcelona|   95|\n",
            "|       Real Madrid|   69|\n",
            "|        Villarreal|   62|\n",
            "|           Sevilla|   61|\n",
            "|     Real Sociedad|   55|\n",
            "|Atlético de Madrid|   50|\n",
            "|        Granada CF|   50|\n",
            "|        Real Betis|   48|\n",
            "|           Osasuna|   46|\n",
            "|            Getafe|   45|\n",
            "|           Levante|   45|\n",
            "|       Valencia CF|   45|\n",
            "|     Athletic Club|   40|\n",
            "|     Celta de Vigo|   40|\n",
            "|          Mallorca|   39|\n",
            "|             Eibar|   38|\n",
            "|           Leganés|   37|\n",
            "|            Alavés|   34|\n",
            "|   Real Valladolid|   31|\n",
            "|          Espanyol|   27|\n",
            "+------------------+-----+\n",
            "\n"
          ]
        }
      ]
    },
    {
      "cell_type": "code",
      "metadata": {
        "id": "jazSMhIDQphw"
      },
      "source": [
        ""
      ],
      "execution_count": null,
      "outputs": []
    },
    {
      "cell_type": "markdown",
      "metadata": {
        "id": "DBUPnpdIoWRu"
      },
      "source": [
        "## Finalización\n"
      ]
    },
    {
      "cell_type": "code",
      "metadata": {
        "id": "kB9mF_zJoVal"
      },
      "source": [
        "sc.stop()"
      ],
      "execution_count": null,
      "outputs": []
    }
  ]
}